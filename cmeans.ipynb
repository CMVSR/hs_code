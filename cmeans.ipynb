{
 "cells": [
  {
   "cell_type": "code",
   "execution_count": 113,
   "metadata": {},
   "outputs": [],
   "source": [
    "# Authors: Dr. Min Wang, Noah Gardner"
   ]
  },
  {
   "cell_type": "code",
   "execution_count": 114,
   "metadata": {},
   "outputs": [],
   "source": [
    "from pathlib import Path\n",
    "\n",
    "import numpy as np\n",
    "import scipy.io as sio\n",
    "from fcmeans import FCM\n",
    "from scipy.optimize import linear_sum_assignment\n",
    "from sklearn.metrics import accuracy_score, cluster\n",
    "from sklearn.metrics import adjusted_rand_score\n",
    "from sklearn.model_selection import train_test_split"
   ]
  },
  {
   "cell_type": "code",
   "execution_count": 115,
   "metadata": {},
   "outputs": [
    {
     "name": "stderr",
     "output_type": "stream",
     "text": [
      "┌ Warning: Over-writing registration of the datadep\n",
      "│   name = \"IndianPinesData\"\n",
      "└ @ DataDeps ~/.julia/packages/DataDeps/ooWXe/src/registration.jl:15\n",
      "┌ Warning: Over-writing registration of the datadep\n",
      "│   name = \"IndianPinesLabels\"\n",
      "└ @ DataDeps ~/.julia/packages/DataDeps/ooWXe/src/registration.jl:15\n",
      "┌ Warning: Over-writing registration of the datadep\n",
      "│   name = \"WashingtonMall\"\n",
      "└ @ DataDeps ~/.julia/packages/DataDeps/ooWXe/src/registration.jl:15\n"
     ]
    },
    {
     "data": {
      "text/plain": [
       "'true'"
      ]
     },
     "execution_count": 115,
     "metadata": {},
     "output_type": "execute_result"
    }
   ],
   "source": [
    "from juliacall import Main as jl\n",
    "jl.seval('include(\"./datasets.jl\")')\n",
    "jl.seval('ENV[\"DATADEPS_ALWAYS_ACCEPT\"] = \"true\"')"
   ]
  },
  {
   "cell_type": "code",
   "execution_count": 116,
   "metadata": {},
   "outputs": [
    {
     "name": "stdout",
     "output_type": "stream",
     "text": [
      "random_state: 77\n"
     ]
    }
   ],
   "source": [
    "# Constants\n",
    "# number of experiments\n",
    "noexp = 3\n",
    "\n",
    "# number of classes\n",
    "labellist = [2, 5, 10, 11]\n",
    "L = len(labellist)\n",
    "\n",
    "RANDOM_STATE = int(np.random.uniform()*100)\n",
    "TEST_SIZE = 0.2\n",
    "print('random_state:', RANDOM_STATE)"
   ]
  },
  {
   "cell_type": "code",
   "execution_count": 117,
   "metadata": {},
   "outputs": [],
   "source": [
    "ip_data_path = Path(jl.seval('datadep\"IndianPinesData\"')) / 'Indian_pines.mat'\n",
    "ip_labels_path = Path(jl.seval('datadep\"IndianPinesLabels\"')) / 'Indian_pines_gt.mat'\n",
    "ip_data = sio.loadmat(ip_data_path)['indian_pines']\n",
    "ip_labels = sio.loadmat(ip_labels_path)['indian_pines_gt']\n",
    "\n",
    "ip_data = ip_data.reshape(ip_data.shape[0] * ip_data.shape[1], ip_data.shape[2])\n",
    "ip_labels = ip_labels.reshape(ip_labels.shape[0] * ip_labels.shape[1])"
   ]
  },
  {
   "cell_type": "code",
   "execution_count": 118,
   "metadata": {},
   "outputs": [
    {
     "name": "stdout",
     "output_type": "stream",
     "text": [
      "(5338, 220)\n",
      "(5338,)\n"
     ]
    }
   ],
   "source": [
    "idx = np.where(np.isin(ip_labels, labellist))\n",
    "ip_data = ip_data[idx]\n",
    "ip_labels = ip_labels[idx]\n",
    "print(ip_data.shape)\n",
    "print(ip_labels.shape)"
   ]
  },
  {
   "cell_type": "code",
   "execution_count": 119,
   "metadata": {},
   "outputs": [],
   "source": [
    "# convert labels from 2,5,10,11 to 0,1,2,3\n",
    "ip_labels[np.where(ip_labels == 2)] = 0\n",
    "ip_labels[np.where(ip_labels == 5)] = 1\n",
    "ip_labels[np.where(ip_labels == 10)] = 2\n",
    "ip_labels[np.where(ip_labels == 11)] = 3"
   ]
  },
  {
   "cell_type": "code",
   "execution_count": 120,
   "metadata": {},
   "outputs": [
    {
     "name": "stdout",
     "output_type": "stream",
     "text": [
      "(array([0, 1, 2, 3], dtype=uint8), array([1428,  483,  972, 2455]))\n"
     ]
    }
   ],
   "source": [
    "print(np.unique(ip_labels, return_counts=True))"
   ]
  },
  {
   "cell_type": "code",
   "execution_count": 121,
   "metadata": {},
   "outputs": [],
   "source": [
    "X_train, X_test, y_train, y_test = train_test_split(\n",
    "    ip_data,\n",
    "    ip_labels,\n",
    "    test_size=TEST_SIZE,\n",
    "    random_state=RANDOM_STATE,\n",
    ")"
   ]
  },
  {
   "cell_type": "code",
   "execution_count": 122,
   "metadata": {},
   "outputs": [],
   "source": [
    "def train(X, L, max_iter=100, m=2):\n",
    "    fcm = FCM(\n",
    "        n_clusters=L,\n",
    "        max_iter=max_iter,\n",
    "        m=m,\n",
    "        random_state=RANDOM_STATE,\n",
    "    )\n",
    "    fcm.fit(X)\n",
    "    return fcm"
   ]
  },
  {
   "cell_type": "code",
   "execution_count": 123,
   "metadata": {},
   "outputs": [],
   "source": [
    "def predict(X, fcm):\n",
    "    return fcm.predict(X)"
   ]
  },
  {
   "cell_type": "code",
   "execution_count": 124,
   "metadata": {},
   "outputs": [],
   "source": [
    "def checkFCM(preds, labels):\n",
    "    # create a mapping list: class i --> pred j\n",
    "    c = cluster.contingency_matrix(labels, preds, eps=1, dtype=int)\n",
    "    remapped_centers = linear_sum_assignment(c, maximize=True)\n",
    "    \n",
    "    # need to convert labellist to [0,3]\n",
    "    remapped_preds = np.array([remapped_centers[1][pred] for pred in preds])\n",
    "    \n",
    "    print('new experiment')\n",
    "    print('prediction frequency count: ', np.unique(preds, return_counts=True))\n",
    "    print('contigency matrix:\\n', c)\n",
    "    print('re-mapped centers: ', remapped_centers)\n",
    "    print('accuracy: ', accuracy_score(remapped_preds, labels))\n",
    "\n",
    "    # for debugging, adjusted rand score will be the same before and after remapping\n",
    "    print('adjusted rand score: ', adjusted_rand_score(preds, labels))\n",
    "    print('adjusted rand score (after remap): ', adjusted_rand_score(remapped_preds, labels))\n",
    "    return accuracy_score(remapped_preds, labels)"
   ]
  },
  {
   "cell_type": "code",
   "execution_count": 125,
   "metadata": {},
   "outputs": [],
   "source": [
    "fcm = train(X_train, L)\n",
    "preds = predict(X_test, fcm)"
   ]
  },
  {
   "cell_type": "code",
   "execution_count": 126,
   "metadata": {},
   "outputs": [
    {
     "name": "stdout",
     "output_type": "stream",
     "text": [
      "new experiment\n",
      "prediction frequency count:  (array([0, 1, 2, 3]), array([ 75, 346, 470, 177]))\n",
      "contigency matrix:\n",
      " [[  2 155  87  41]\n",
      " [ 75   3  13  11]\n",
      " [  1  39 119  67]\n",
      " [  1 153 255  62]]\n",
      "re-mapped centers:  (array([0, 1, 2, 3]), array([1, 0, 3, 2]))\n",
      "accuracy:  0.5131086142322098\n",
      "adjusted rand score:  0.12553261633558424\n",
      "adjusted rand score (after remap):  0.12553261633558424\n"
     ]
    },
    {
     "data": {
      "text/plain": [
       "0.5131086142322098"
      ]
     },
     "execution_count": 126,
     "metadata": {},
     "output_type": "execute_result"
    }
   ],
   "source": [
    "checkFCM(preds, y_test)"
   ]
  }
 ],
 "metadata": {
  "interpreter": {
   "hash": "3cf5d5f6ea43a10f786f54729ce07c360818ff97ecf9b90882393dffc3be3a40"
  },
  "kernelspec": {
   "display_name": "Python 3.10.4 ('cmeans')",
   "language": "python",
   "name": "python3"
  },
  "language_info": {
   "codemirror_mode": {
    "name": "ipython",
    "version": 3
   },
   "file_extension": ".py",
   "mimetype": "text/x-python",
   "name": "python",
   "nbconvert_exporter": "python",
   "pygments_lexer": "ipython3",
   "version": "3.10.4"
  },
  "orig_nbformat": 4
 },
 "nbformat": 4,
 "nbformat_minor": 2
}

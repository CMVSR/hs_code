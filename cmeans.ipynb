{
 "cells": [
  {
   "cell_type": "code",
   "execution_count": null,
   "metadata": {},
   "outputs": [],
   "source": [
    "# Authors: Dr. Min Wang, Noah Gardner"
   ]
  },
  {
   "cell_type": "code",
   "execution_count": 1,
   "metadata": {},
   "outputs": [],
   "source": [
    "from pathlib import Path\n",
    "\n",
    "import numpy as np\n",
    "import scipy.io as sio\n",
    "from fcmeans import FCM\n",
    "from scipy.optimize import linear_sum_assignment\n",
    "from sklearn.metrics import accuracy_score, cluster\n",
    "from sklearn.metrics import adjusted_rand_score"
   ]
  },
  {
   "cell_type": "code",
   "execution_count": 3,
   "metadata": {},
   "outputs": [
    {
     "data": {
      "text/plain": [
       "'true'"
      ]
     },
     "execution_count": 3,
     "metadata": {},
     "output_type": "execute_result"
    }
   ],
   "source": [
    "from juliacall import Main as jl\n",
    "jl.seval('include(\"./datasets.jl\")')\n",
    "jl.seval('ENV[\"DATADEPS_ALWAYS_ACCEPT\"] = \"true\"')"
   ]
  },
  {
   "cell_type": "code",
   "execution_count": 5,
   "metadata": {},
   "outputs": [],
   "source": [
    "# Constants\n",
    "# number of experiments\n",
    "noexp = 3\n",
    "\n",
    "# number of classes\n",
    "labellist = [2, 5, 10, 11]\n",
    "L = len(labellist)"
   ]
  },
  {
   "cell_type": "code",
   "execution_count": 9,
   "metadata": {},
   "outputs": [],
   "source": [
    "ip_data_path = Path(jl.seval('datadep\"IndianPinesData\"')) / 'Indian_pines.mat'\n",
    "ip_labels_path = Path(jl.seval('datadep\"IndianPinesLabels\"')) / 'Indian_pines_gt.mat'\n",
    "ip_data = sio.loadmat(ip_data_path)['indian_pines']\n",
    "ip_labels = sio.loadmat(ip_labels_path)['indian_pines_gt']\n",
    "\n",
    "ip_data = ip_data.reshape(ip_data.shape[0] * ip_data.shape[1], ip_data.shape[2])\n",
    "ip_labels = ip_labels.reshape(ip_labels.shape[0] * ip_labels.shape[1])"
   ]
  },
  {
   "cell_type": "code",
   "execution_count": 10,
   "metadata": {},
   "outputs": [
    {
     "name": "stdout",
     "output_type": "stream",
     "text": [
      "(5338, 220)\n",
      "(5338,)\n"
     ]
    }
   ],
   "source": [
    "idx = np.where(np.isin(ip_labels, labellist))\n",
    "ip_data = ip_data[idx]\n",
    "ip_labels = ip_labels[idx]\n",
    "print(ip_data.shape)\n",
    "print(ip_labels.shape)"
   ]
  },
  {
   "cell_type": "code",
   "execution_count": 12,
   "metadata": {},
   "outputs": [],
   "source": [
    "# fit an FCM model and return parameters\n",
    "def runFCM(X):\n",
    "    fcm = FCM(n_clusters=L) # random_state=int(np.random.uniform()*100))\n",
    "    fcm.fit(X)\n",
    "    labels = fcm.predict(X)\n",
    "    return fcm._centers, fcm.u, labels"
   ]
  },
  {
   "cell_type": "code",
   "execution_count": 19,
   "metadata": {},
   "outputs": [],
   "source": [
    "def checkFCM(preds, labels):\n",
    "    # create a mapping list: class i --> pred j\n",
    "    c = cluster.contingency_matrix(labels, preds, eps=1, dtype=int)\n",
    "    remapped_centers = linear_sum_assignment(c, maximize=True)\n",
    "    \n",
    "    # need to convert labellist to [0,3]\n",
    "    remapped_preds = np.array([remapped_centers[1][pred] for pred in preds])\n",
    "    \n",
    "    print('new experiment')\n",
    "    print('prediction frequency count: ', np.unique(preds, return_counts=True))\n",
    "    print('contigency matrix:\\n', c)\n",
    "    print('re-mapped centers: ', remapped_centers)\n",
    "    print('accuracy: ', accuracy_score(remapped_preds, labels))\n",
    "\n",
    "    # for debugging, adjusted rand score will be the same before and after remapping\n",
    "    print('adjusted rand score: ', adjusted_rand_score(preds, labels))\n",
    "    print('adjusted rand score (after remap): ', adjusted_rand_score(remapped_preds, labels))\n",
    "    return accuracy_score(remapped_preds, labels)"
   ]
  },
  {
   "cell_type": "code",
   "execution_count": 17,
   "metadata": {},
   "outputs": [],
   "source": [
    "C, U, preds = runFCM(ip_data)"
   ]
  },
  {
   "cell_type": "code",
   "execution_count": 20,
   "metadata": {},
   "outputs": [
    {
     "name": "stdout",
     "output_type": "stream",
     "text": [
      "new experiment\n",
      "prediction frequency count:  (array([0, 1, 2, 3]), array([ 357, 1790,  870, 2321]))\n",
      "contigency matrix:\n",
      " [[   3  782  205  442]\n",
      " [ 351    7   71   58]\n",
      " [   1  187  249  539]\n",
      " [   6  818  349 1286]]\n",
      "re-mapped centers:  (array([0, 1, 2, 3]), array([1, 0, 2, 3]))\n",
      "accuracy:  0.03821656050955414\n",
      "adjusted rand score:  0.11548376621170907\n",
      "adjusted rand score:  0.11548376621170907\n"
     ]
    },
    {
     "data": {
      "text/plain": [
       "0.03821656050955414"
      ]
     },
     "execution_count": 20,
     "metadata": {},
     "output_type": "execute_result"
    }
   ],
   "source": [
    "checkFCM(preds, ip_labels)"
   ]
  }
 ],
 "metadata": {
  "interpreter": {
   "hash": "3cf5d5f6ea43a10f786f54729ce07c360818ff97ecf9b90882393dffc3be3a40"
  },
  "kernelspec": {
   "display_name": "Python 3.10.4 ('cmeans')",
   "language": "python",
   "name": "python3"
  },
  "language_info": {
   "codemirror_mode": {
    "name": "ipython",
    "version": 3
   },
   "file_extension": ".py",
   "mimetype": "text/x-python",
   "name": "python",
   "nbconvert_exporter": "python",
   "pygments_lexer": "ipython3",
   "version": "3.10.4"
  },
  "orig_nbformat": 4
 },
 "nbformat": 4,
 "nbformat_minor": 2
}

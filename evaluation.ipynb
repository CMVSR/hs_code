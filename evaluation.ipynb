{
 "cells": [
  {
   "cell_type": "code",
   "execution_count": 27,
   "metadata": {},
   "outputs": [],
   "source": [
    "import numpy as np\n",
    "from scipy.optimize import linear_sum_assignment\n",
    "from sklearn.metrics import accuracy_score, cluster\n",
    "from sklearn.metrics import adjusted_rand_score, rand_score"
   ]
  },
  {
   "cell_type": "code",
   "execution_count": 28,
   "metadata": {},
   "outputs": [],
   "source": [
    "a = [0, 0, 1, 1, 2, 2]\n",
    "b = [1, 1, 0, 0, 2, 2]"
   ]
  },
  {
   "cell_type": "code",
   "execution_count": 29,
   "metadata": {},
   "outputs": [],
   "source": [
    "c = cluster.contingency_matrix(a, b, eps=1, dtype=int)"
   ]
  },
  {
   "cell_type": "code",
   "execution_count": 30,
   "metadata": {},
   "outputs": [],
   "source": [
    "remapped_centers = linear_sum_assignment(c, maximize=True)"
   ]
  },
  {
   "cell_type": "code",
   "execution_count": 31,
   "metadata": {},
   "outputs": [],
   "source": [
    "a_remapped = np.array([remapped_centers[1][pred] for pred in a])"
   ]
  },
  {
   "cell_type": "code",
   "execution_count": 32,
   "metadata": {},
   "outputs": [
    {
     "name": "stdout",
     "output_type": "stream",
     "text": [
      "accuracy before remap: 0.3333333333333333\n",
      "accuracy after remap: 1.0\n"
     ]
    }
   ],
   "source": [
    "print('accuracy before remap: {0}'.format(accuracy_score(a, b)))\n",
    "print('accuracy after remap: {0}'.format(accuracy_score(a_remapped, b)))"
   ]
  },
  {
   "cell_type": "code",
   "execution_count": 33,
   "metadata": {},
   "outputs": [
    {
     "data": {
      "text/plain": [
       "(1.0, 1.0)"
      ]
     },
     "execution_count": 33,
     "metadata": {},
     "output_type": "execute_result"
    }
   ],
   "source": [
    "rand_score(a, b), adjusted_rand_score(a, b)"
   ]
  },
  {
   "cell_type": "code",
   "execution_count": 34,
   "metadata": {},
   "outputs": [
    {
     "data": {
      "text/plain": [
       "(1.0, 1.0)"
      ]
     },
     "execution_count": 34,
     "metadata": {},
     "output_type": "execute_result"
    }
   ],
   "source": [
    "rand_score(a_remapped, b), adjusted_rand_score(a_remapped, b)"
   ]
  }
 ],
 "metadata": {
  "interpreter": {
   "hash": "f4ff84cfa16f0dd19fedc0e5fa9cbea230418ef627b03608dcdc6e3e552005e3"
  },
  "kernelspec": {
   "display_name": "Python 3.10.4 ('hs_code')",
   "language": "python",
   "name": "python3"
  },
  "language_info": {
   "codemirror_mode": {
    "name": "ipython",
    "version": 3
   },
   "file_extension": ".py",
   "mimetype": "text/x-python",
   "name": "python",
   "nbconvert_exporter": "python",
   "pygments_lexer": "ipython3",
   "version": "3.10.4"
  },
  "orig_nbformat": 4
 },
 "nbformat": 4,
 "nbformat_minor": 2
}

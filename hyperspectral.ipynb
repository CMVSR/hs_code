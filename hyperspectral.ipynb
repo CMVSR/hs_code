{
 "cells": [
  {
   "cell_type": "code",
   "execution_count": 1,
   "metadata": {},
   "outputs": [],
   "source": [
    "from pathlib import Path\n",
    "\n",
    "import scipy.io as sio\n",
    "import tifffile as tiff"
   ]
  },
  {
   "cell_type": "code",
   "execution_count": 2,
   "metadata": {},
   "outputs": [
    {
     "name": "stdout",
     "output_type": "stream",
     "text": [
      "[juliapkg] Locating Julia ^1.6\n",
      "[juliapkg] Using Julia 1.7.2 at /home/noah/.local/bin/julia\n",
      "[juliapkg] Using Julia project at /home/noah/anaconda3/envs/hs_code/julia_env\n",
      "[juliapkg] Installing packages:\n",
      "           julia> import Pkg\n",
      "           julia> Pkg.add([Pkg.PackageSpec(name=\"PythonCall\", uuid=\"6099a3de-0909-46bc-b1f4-468b9a2dfc0d\")])\n",
      "           julia> Pkg.resolve()\n"
     ]
    },
    {
     "name": "stderr",
     "output_type": "stream",
     "text": [
      "    Updating registry at `~/.julia/registries/General.toml`\n",
      "   Resolving package versions...\n",
      "  No Changes to `~/anaconda3/envs/hs_code/julia_env/Project.toml`\n",
      "  No Changes to `~/anaconda3/envs/hs_code/julia_env/Manifest.toml`\n",
      "  No Changes to `~/anaconda3/envs/hs_code/julia_env/Project.toml`\n",
      "  No Changes to `~/anaconda3/envs/hs_code/julia_env/Manifest.toml`\n"
     ]
    },
    {
     "data": {
      "text/plain": [
       "'true'"
      ]
     },
     "execution_count": 2,
     "metadata": {},
     "output_type": "execute_result"
    }
   ],
   "source": [
    "from juliacall import Main as jl\n",
    "jl.seval('include(\"./datasets.jl\")')\n",
    "jl.seval('ENV[\"DATADEPS_ALWAYS_ACCEPT\"] = \"true\"')"
   ]
  },
  {
   "cell_type": "code",
   "execution_count": 3,
   "metadata": {},
   "outputs": [],
   "source": [
    "ip_data_path = Path(jl.seval('datadep\"IndianPinesData\"')) / 'Indian_pines.mat'\n",
    "ip_labels_path = Path(jl.seval('datadep\"IndianPinesLabels\"')) / 'Indian_pines_gt.mat'"
   ]
  },
  {
   "cell_type": "code",
   "execution_count": 4,
   "metadata": {},
   "outputs": [],
   "source": [
    "ip_data = sio.loadmat(ip_data_path)['indian_pines']\n",
    "ip_labels = sio.loadmat(ip_labels_path)['indian_pines_gt']"
   ]
  },
  {
   "cell_type": "code",
   "execution_count": 5,
   "metadata": {},
   "outputs": [
    {
     "name": "stdout",
     "output_type": "stream",
     "text": [
      "Indian Pines:\n",
      "Data: (145, 145, 220)\n",
      "Labels: (145, 145)\n"
     ]
    }
   ],
   "source": [
    "print('Indian Pines:')\n",
    "print('Data:', ip_data.shape)\n",
    "print('Labels:', ip_labels.shape)"
   ]
  },
  {
   "cell_type": "code",
   "execution_count": 6,
   "metadata": {},
   "outputs": [],
   "source": [
    "wm_data_path = Path(jl.seval('datadep\"WashingtonMall\"')) / 'Hyperspectral_Project/dc.tif'"
   ]
  },
  {
   "cell_type": "code",
   "execution_count": 7,
   "metadata": {},
   "outputs": [],
   "source": [
    "wm_data = tiff.imread(wm_data_path)"
   ]
  },
  {
   "cell_type": "code",
   "execution_count": 8,
   "metadata": {},
   "outputs": [
    {
     "name": "stdout",
     "output_type": "stream",
     "text": [
      "Washington Mall:\n",
      "Data: (191, 1280, 307)\n"
     ]
    }
   ],
   "source": [
    "print('Washington Mall:')\n",
    "print('Data:', wm_data.shape)"
   ]
  }
 ],
 "metadata": {
  "interpreter": {
   "hash": "f4ff84cfa16f0dd19fedc0e5fa9cbea230418ef627b03608dcdc6e3e552005e3"
  },
  "kernelspec": {
   "display_name": "Python 3.10.4 ('hs_code')",
   "language": "python",
   "name": "python3"
  },
  "language_info": {
   "codemirror_mode": {
    "name": "ipython",
    "version": 3
   },
   "file_extension": ".py",
   "mimetype": "text/x-python",
   "name": "python",
   "nbconvert_exporter": "python",
   "pygments_lexer": "ipython3",
   "version": "3.10.4"
  },
  "orig_nbformat": 4
 },
 "nbformat": 4,
 "nbformat_minor": 2
}
